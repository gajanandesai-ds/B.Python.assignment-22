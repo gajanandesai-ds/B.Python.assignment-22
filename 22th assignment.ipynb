{
 "cells": [
  {
   "cell_type": "raw",
   "id": "ba384c14",
   "metadata": {},
   "source": [
    "1. What is the result of the code, and explain?\n",
    "\n",
    ">>> X =!iNeuron'\n",
    ">>> def func():\n",
    "print(X)\n",
    "\n",
    ">>> func()"
   ]
  },
  {
   "cell_type": "code",
   "execution_count": 3,
   "id": "6c1c2902",
   "metadata": {},
   "outputs": [
    {
     "name": "stdout",
     "output_type": "stream",
     "text": [
      "iNeuron\n"
     ]
    }
   ],
   "source": [
    "x= 'iNeuron'\n",
    "def func():\n",
    "    print(x)\n",
    "func()\n",
    "\n",
    "# The global variable are accessible in side the function in python.\n",
    "#but we can not access function variable out sidew function\n",
    "#Since x is global variable we are able to print it in side the function solution:'iNeuron'"
   ]
  },
  {
   "cell_type": "code",
   "execution_count": null,
   "id": "7a375034",
   "metadata": {},
   "outputs": [],
   "source": []
  },
  {
   "cell_type": "raw",
   "id": "52d9849b",
   "metadata": {},
   "source": [
    "2. What is the result of the code, and explain?\n",
    "\n",
    ">>> X = 'iNeuron'\n",
    ">>> def func():\n",
    "X = NI!'\n",
    "\n",
    ">>> func()\n",
    ">>> print(X)"
   ]
  },
  {
   "cell_type": "code",
   "execution_count": 4,
   "id": "d41d9082",
   "metadata": {},
   "outputs": [
    {
     "name": "stdout",
     "output_type": "stream",
     "text": [
      "iNeuron\n"
     ]
    }
   ],
   "source": [
    "x='iNeuron'\n",
    "def func():\n",
    "    x = 'NI!'\n",
    "    \n",
    "func()\n",
    "print(x)"
   ]
  },
  {
   "cell_type": "code",
   "execution_count": null,
   "id": "13d335ed",
   "metadata": {},
   "outputs": [],
   "source": []
  },
  {
   "cell_type": "code",
   "execution_count": null,
   "id": "5530923d",
   "metadata": {},
   "outputs": [],
   "source": []
  },
  {
   "cell_type": "raw",
   "id": "a68430eb",
   "metadata": {},
   "source": [
    "3. What does this code print, and why?\n",
    "\n",
    ">>> X = iNeuron\n",
    ">>> def func():\n",
    "X = 'NI'\n",
    "print(X)\n",
    "\n",
    ">>> func()\n",
    ">>> print(X)"
   ]
  },
  {
   "cell_type": "code",
   "execution_count": 6,
   "id": "05a18b75",
   "metadata": {},
   "outputs": [
    {
     "name": "stdout",
     "output_type": "stream",
     "text": [
      "NI\n",
      "iNeuron\n"
     ]
    }
   ],
   "source": [
    "x= 'iNeuron'\n",
    "def func():\n",
    "    x= 'NI'\n",
    "    print(x)\n",
    "    \n",
    "func()\n",
    "print(x)"
   ]
  },
  {
   "cell_type": "code",
   "execution_count": null,
   "id": "099a3100",
   "metadata": {},
   "outputs": [],
   "source": []
  },
  {
   "cell_type": "code",
   "execution_count": null,
   "id": "51c9f6e0",
   "metadata": {},
   "outputs": [],
   "source": []
  },
  {
   "cell_type": "raw",
   "id": "a8bdef87",
   "metadata": {},
   "source": [
    "4. What output does this code produce? Why?\n",
    "\n",
    ">>> X =iNeuron\n",
    ">>> def func():\n",
    "global X\n",
    "X = 'NI'\n",
    "\n",
    ">>> func()\n",
    ">>>print(X)"
   ]
  },
  {
   "cell_type": "code",
   "execution_count": 7,
   "id": "2e40e279",
   "metadata": {},
   "outputs": [
    {
     "name": "stdout",
     "output_type": "stream",
     "text": [
      "NI!\n",
      "NI!\n"
     ]
    }
   ],
   "source": [
    "x= 'INeuron'\n",
    "def func():\n",
    "    global x\n",
    "    x = 'NI!'\n",
    "    print(x)\n",
    "    \n",
    "func()\n",
    "print(x)"
   ]
  },
  {
   "cell_type": "code",
   "execution_count": null,
   "id": "6bba40b7",
   "metadata": {},
   "outputs": [],
   "source": []
  },
  {
   "cell_type": "code",
   "execution_count": null,
   "id": "b20f7b3f",
   "metadata": {},
   "outputs": [],
   "source": []
  },
  {
   "cell_type": "raw",
   "id": "ca60d95c",
   "metadata": {},
   "source": [
    "5. What about this code—what’s the output, and why?\n",
    ">>> X = iNeuron\n",
    ">>> def func():\n",
    "X = NI\n",
    "def nested():\n",
    "print(X)\n",
    "nested()\n",
    "\n",
    ">>> func()\n",
    ">>> X"
   ]
  },
  {
   "cell_type": "code",
   "execution_count": 9,
   "id": "a9b8724c",
   "metadata": {},
   "outputs": [
    {
     "name": "stdout",
     "output_type": "stream",
     "text": [
      "iNeuron\n"
     ]
    },
    {
     "data": {
      "text/plain": [
       "'iNeuron'"
      ]
     },
     "execution_count": 9,
     "metadata": {},
     "output_type": "execute_result"
    }
   ],
   "source": [
    "x= 'iNeuron'\n",
    "def func():\n",
    "    x='Ni'\n",
    "def nested ():\n",
    "    print(x)\n",
    "    \n",
    "nested ()\n",
    "func()\n",
    "x"
   ]
  },
  {
   "cell_type": "code",
   "execution_count": null,
   "id": "d1c41f47",
   "metadata": {},
   "outputs": [],
   "source": []
  },
  {
   "cell_type": "code",
   "execution_count": null,
   "id": "96107874",
   "metadata": {},
   "outputs": [],
   "source": []
  },
  {
   "cell_type": "raw",
   "id": "391a9b44",
   "metadata": {},
   "source": [
    "6. How about this code: what is its output in Python 3, and explain?\n",
    "\n",
    ">>>def func():\n",
    "X = 'NI'\n",
    "def nested():\n",
    "nonlocal X\n",
    "X = Spam\n",
    "nested()\n",
    "print(X)\n",
    "\n",
    ">>> func()"
   ]
  },
  {
   "cell_type": "code",
   "execution_count": 11,
   "id": "8369a609",
   "metadata": {},
   "outputs": [
    {
     "name": "stdout",
     "output_type": "stream",
     "text": [
      "NI\n"
     ]
    }
   ],
   "source": [
    "def func():\n",
    "    x= 'NI'\n",
    "    def nested():\n",
    "        nonlocal x\n",
    "        X= 'Spam'\n",
    "    nested()\n",
    "    print(x)\n",
    "    \n",
    "func()"
   ]
  },
  {
   "cell_type": "code",
   "execution_count": null,
   "id": "a29ec1f0",
   "metadata": {},
   "outputs": [],
   "source": []
  }
 ],
 "metadata": {
  "kernelspec": {
   "display_name": "Python 3",
   "language": "python",
   "name": "python3"
  },
  "language_info": {
   "codemirror_mode": {
    "name": "ipython",
    "version": 3
   },
   "file_extension": ".py",
   "mimetype": "text/x-python",
   "name": "python",
   "nbconvert_exporter": "python",
   "pygments_lexer": "ipython3",
   "version": "3.8.8"
  }
 },
 "nbformat": 4,
 "nbformat_minor": 5
}
